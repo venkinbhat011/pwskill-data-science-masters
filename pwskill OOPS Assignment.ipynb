{
 "cells": [
  {
   "cell_type": "markdown",
   "id": "d36c5d90",
   "metadata": {},
   "source": [
    "Q1. Create a function which will take a list as an argument and return the product of all the numbers after creating a flat list.Use the below-given list as an argument for your function.\n",
    "list1 = [1,2,3,4, [44,55,66, True], False, (34,56,78,89,34), {1,2,3,3,2,1}, {1:34, \"key2\": [55, 67, 78, 89], 4: (45, 22, 61, 34)}, [56, 'data science'], 'Machine Learning']\n",
    "Note: you must extract numeric keys and values of the dictionary also."
   ]
  },
  {
   "cell_type": "code",
   "execution_count": 5,
   "id": "960920bc",
   "metadata": {},
   "outputs": [],
   "source": [
    "def flatten_and_multiply(lst):\n",
    "    from collections.abc import Iterable\n",
    "    from functools import reduce\n",
    "    import operator\n",
    "    import numbers\n",
    "\n",
    "    flat_numbers = []\n",
    "\n",
    "    def flatten(item):\n",
    "        if isinstance(item, dict):\n",
    "            for k, v in item.items():\n",
    "                if isinstance(k, numbers.Number) and not isinstance(k, bool):\n",
    "                    flat_numbers.append(k)\n",
    "                flatten(v)\n",
    "        elif isinstance(item, Iterable) and not isinstance(item, (str, bytes)):\n",
    "            for sub_item in item:\n",
    "                flatten(sub_item)\n",
    "        elif isinstance(item, numbers.Number) and not isinstance(item, bool):\n",
    "            flat_numbers.append(item)\n",
    "\n",
    "    flatten(lst)\n",
    "\n",
    "    product = reduce(operator.mul, flat_numbers, 1)\n",
    "    return product"
   ]
  },
  {
   "cell_type": "code",
   "execution_count": 6,
   "id": "678c14c8",
   "metadata": {},
   "outputs": [
    {
     "name": "stdout",
     "output_type": "stream",
     "text": [
      "Product of all numeric values: 4134711838987085478833841242112000\n"
     ]
    }
   ],
   "source": [
    "list1 = [\n",
    "    1, 2, 3, 4, \n",
    "    [44, 55, 66, True], \n",
    "    False, \n",
    "    (34, 56, 78, 89, 34), \n",
    "    {1, 2, 3, 3, 2, 1}, \n",
    "    {1: 34, \"key2\": [55, 67, 78, 89], 4: (45, 22, 61, 34)}, \n",
    "    [56, 'data science'], \n",
    "    'Machine Learning'\n",
    "]\n",
    "\n",
    "result = flatten_and_multiply(list1)\n",
    "print(\"Product of all numeric values:\", result)"
   ]
  },
  {
   "cell_type": "markdown",
   "id": "9447ea29",
   "metadata": {},
   "source": [
    "Q2. Write a python program for encrypting a message sent to you by your friend. The logic of encryption\n",
    "should be such that, for a the output should be z. For b, the output should be y. For c, the output should\n",
    "be x respectively. Also, the whitespace should be replaced with a dollar sign. Keep the punctuation\n",
    "marks unchanged.\n",
    "Input Sentence: I want to become a Data Scientist.\n",
    "Encrypt the above input sentence using the program you just created.\n",
    "Note: Convert the given input sentence into lowercase before encrypting. The final output should be\n",
    "lowercase.\n",
    "Note: Create your assignment in Jupyter notebook and upload it to GitHub & share that GitHub repository"
   ]
  },
  {
   "cell_type": "code",
   "execution_count": 7,
   "id": "315fde0e",
   "metadata": {},
   "outputs": [],
   "source": [
    "def encrypt_message(message):\n",
    "    encrypted = \"\"\n",
    "    for char in message.lower():\n",
    "        if char.isalpha():\n",
    "            # Reverse the alphabet: a -> z, b -> y, ..., z -> a\n",
    "            encrypted += chr(219 - ord(char))  # 219 = ord('a') + ord('z')\n",
    "        elif char == \" \":\n",
    "            encrypted += \"$\"\n",
    "        else:\n",
    "            encrypted += char  # punctuation remains unchanged\n",
    "    return encrypted"
   ]
  },
  {
   "cell_type": "code",
   "execution_count": 8,
   "id": "c14ba687",
   "metadata": {},
   "outputs": [
    {
     "name": "stdout",
     "output_type": "stream",
     "text": [
      "Encrypted message: r$dzmg$gl$yvxlnv$z$wzgz$hxrvmgrhg.\n"
     ]
    }
   ],
   "source": [
    "input_text = \"I want to become a Data Scientist.\"\n",
    "output = encrypt_message(input_text)\n",
    "print(\"Encrypted message:\", output)"
   ]
  },
  {
   "cell_type": "code",
   "execution_count": null,
   "id": "80eeed8a",
   "metadata": {},
   "outputs": [],
   "source": []
  }
 ],
 "metadata": {
  "kernelspec": {
   "display_name": "Python 3 (ipykernel)",
   "language": "python",
   "name": "python3"
  },
  "language_info": {
   "codemirror_mode": {
    "name": "ipython",
    "version": 3
   },
   "file_extension": ".py",
   "mimetype": "text/x-python",
   "name": "python",
   "nbconvert_exporter": "python",
   "pygments_lexer": "ipython3",
   "version": "3.9.13"
  }
 },
 "nbformat": 4,
 "nbformat_minor": 5
}
