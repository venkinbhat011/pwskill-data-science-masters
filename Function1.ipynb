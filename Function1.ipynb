{
 "cells": [
  {
   "cell_type": "markdown",
   "id": "8dfee7ea",
   "metadata": {},
   "source": [
    "## Q1. Which keyword is used to create a function? Create a function to return a list of odd numbers in the range of 1 to 25."
   ]
  },
  {
   "cell_type": "code",
   "execution_count": 3,
   "id": "b3a1d222",
   "metadata": {},
   "outputs": [],
   "source": [
    "## 'def' keyword is used to create a function.\n",
    "## display 1 to 20 range odd number using custome function.\n",
    "def odd_numbers():\n",
    "    odd_no = [number for number in range(1, 26) if number % 2 != 0]\n",
    "    return odd_no"
   ]
  },
  {
   "cell_type": "code",
   "execution_count": 5,
   "id": "46cf7a03",
   "metadata": {},
   "outputs": [
    {
     "name": "stdout",
     "output_type": "stream",
     "text": [
      "[1, 3, 5, 7, 9, 11, 13, 15, 17, 19, 21, 23, 25]\n"
     ]
    }
   ],
   "source": [
    "# Call the function and print the result\n",
    "result = odd_numbers()\n",
    "print(result)"
   ]
  },
  {
   "cell_type": "markdown",
   "id": "ea75702c",
   "metadata": {},
   "source": [
    "## Q2. Why *args and **kwargs is used in some functions? Create a function each for *args and **kwargs to demonstrate their use."
   ]
  },
  {
   "cell_type": "code",
   "execution_count": 6,
   "id": "a5c553be",
   "metadata": {},
   "outputs": [],
   "source": [
    "## *args and **kwargs are used in Python functions to allow the handling of variable numbers of arguments.\n",
    "\n",
    "## *args: \n",
    "## This allows a function to accept any number of positional arguments. \n",
    "## The term \"args\" is a convention, and you can actually use any name after the asterisk (*). \n",
    "## These arguments are passed to the function as a tuple.\n",
    "\n",
    "## **kwargs: \n",
    "## This allows a function to accept any number of keyword arguments. \n",
    "## The term \"kwargs\" is also a convention, and like with *args, you can use any name after the double asterisk (**). \n",
    "## These arguments are passed to the function as a dictionary."
   ]
  },
  {
   "cell_type": "code",
   "execution_count": 7,
   "id": "0b61a3a9",
   "metadata": {},
   "outputs": [],
   "source": [
    "## Example of *args\n",
    "def sum_all(*args):\n",
    "    result = 0\n",
    "    for num in args:\n",
    "        result += num\n",
    "    return result"
   ]
  },
  {
   "cell_type": "code",
   "execution_count": 8,
   "id": "04de46d1",
   "metadata": {},
   "outputs": [
    {
     "name": "stdout",
     "output_type": "stream",
     "text": [
      "10\n",
      "6\n"
     ]
    }
   ],
   "source": [
    "# Call the function with different numbers of arguments\n",
    "print(sum_all(1, 2, 3, 4))  \n",
    "print(sum_all(1, 2, 3)) "
   ]
  },
  {
   "cell_type": "code",
   "execution_count": 9,
   "id": "df505230",
   "metadata": {},
   "outputs": [],
   "source": [
    "def print_info(**kwargs):\n",
    "    for key, value in kwargs.items():\n",
    "        print(f\"{key}: {value}\")"
   ]
  },
  {
   "cell_type": "code",
   "execution_count": 10,
   "id": "071cae99",
   "metadata": {},
   "outputs": [
    {
     "name": "stdout",
     "output_type": "stream",
     "text": [
      "name: Sharat\n",
      "age: 19\n",
      "city: Ayodhya\n"
     ]
    }
   ],
   "source": [
    "# Call the function with different keyword arguments\n",
    "print_info(name=\"Sharat\", age=19, city=\"Ayodhya\")"
   ]
  },
  {
   "cell_type": "markdown",
   "id": "f4754cb5",
   "metadata": {},
   "source": [
    "## Q3. What is an iterator in python? Name the method used to initialise the iterator object and the method used for iteration. Use these methods to print the first five elements of the given list [2, 4, 6, 8, 10, 12, 14, 16, 18, 20]."
   ]
  },
  {
   "cell_type": "code",
   "execution_count": 11,
   "id": "e5693f7f",
   "metadata": {},
   "outputs": [],
   "source": [
    "## Iterator :\n",
    "## In Python, an iterator is an object that represents a stream of data and can be iterated (looped) over."
   ]
  },
  {
   "cell_type": "code",
   "execution_count": 12,
   "id": "f67235d7",
   "metadata": {},
   "outputs": [],
   "source": [
    "## It implements two methods: __iter__() and __next__().\n",
    "\n",
    "## __iter__() \n",
    "## This method is called when an iterator object is created. \n",
    "## It should return the iterator object itself.\n",
    "\n",
    "## __next__() \n",
    "## This method is called to get the next element in the sequence. \n",
    "## When there are no more elements to return, it should raise the StopIteration exception."
   ]
  },
  {
   "cell_type": "code",
   "execution_count": 13,
   "id": "a19ba7b8",
   "metadata": {},
   "outputs": [],
   "source": [
    "## Print the first five elements of the given list using iterator methods\n",
    "## List = [2,4,6,8,10,12,14,16,18,20]\n",
    "# Define an iterator class\n",
    "class MyIterator:\n",
    "    def __init__(self, data):\n",
    "        self.data = data\n",
    "        self.index = 0\n",
    "\n",
    "    def __iter__(self):\n",
    "        return self\n",
    "\n",
    "    def __next__(self):\n",
    "        if self.index < len(self.data):\n",
    "            result = self.data[self.index]\n",
    "            self.index += 1\n",
    "            return result\n",
    "        else:\n",
    "            raise StopIteration"
   ]
  },
  {
   "cell_type": "code",
   "execution_count": 14,
   "id": "ad137c0b",
   "metadata": {},
   "outputs": [],
   "source": [
    "# Create an iterator object\n",
    "List = MyIterator([2, 4, 6, 8, 10, 12, 14, 16, 18, 20])"
   ]
  },
  {
   "cell_type": "code",
   "execution_count": 15,
   "id": "8032ae88",
   "metadata": {},
   "outputs": [
    {
     "name": "stdout",
     "output_type": "stream",
     "text": [
      "2\n",
      "4\n",
      "6\n",
      "8\n",
      "10\n"
     ]
    }
   ],
   "source": [
    "# Iterate and print the first five elements\n",
    "for _ in range(5):\n",
    "    print(next(List))"
   ]
  },
  {
   "cell_type": "markdown",
   "id": "86f524f9",
   "metadata": {},
   "source": [
    "## Q4. What is a generator function in python? Why yield keyword is used? Give an example of a generator function."
   ]
  },
  {
   "cell_type": "code",
   "execution_count": 16,
   "id": "fab84623",
   "metadata": {},
   "outputs": [],
   "source": [
    "## Generator Function : \n",
    "## Generator function is a special kind of function that returns an iterator, \n",
    "## but unlike regular functions that use the return keyword to return a value and terminate the function. \n",
    "## Generator functions use the yield keyword to produce a series of values over time. \n",
    "## The key characteristic of a generator function is that it maintains its state between successive calls, \n",
    "## allowing it to resume execution from where it left off."
   ]
  },
  {
   "cell_type": "code",
   "execution_count": null,
   "id": "e1d06eba",
   "metadata": {},
   "outputs": [],
   "source": [
    "## The yield keyword is used to produce a value in the generator function and temporarily suspend its execution, \n",
    "## preserving the local state of the function. \n",
    "## When the generator is iterated, the next value is yielded, and the function resumes execution from where it was paused. \n",
    "##This allows for the efficient generation of large sequences of values without the need to store them all in memory at once."
   ]
  },
  {
   "cell_type": "code",
   "execution_count": 17,
   "id": "131cd6c4",
   "metadata": {},
   "outputs": [],
   "source": [
    "def square_numbers(n):\n",
    "    for i in range(n):\n",
    "        yield i ** 2"
   ]
  },
  {
   "cell_type": "code",
   "execution_count": 18,
   "id": "67ce93a0",
   "metadata": {},
   "outputs": [],
   "source": [
    "# Using the generator function\n",
    "generator = square_numbers(5)"
   ]
  },
  {
   "cell_type": "code",
   "execution_count": 19,
   "id": "b8a3ada1",
   "metadata": {},
   "outputs": [
    {
     "name": "stdout",
     "output_type": "stream",
     "text": [
      "0\n",
      "1\n",
      "4\n",
      "9\n",
      "16\n"
     ]
    }
   ],
   "source": [
    "# Iterating over the generated values\n",
    "for value in generator:\n",
    "    print(value)"
   ]
  },
  {
   "cell_type": "markdown",
   "id": "2e7a3111",
   "metadata": {},
   "source": [
    "## Q5. Create a generator function for prime numbers less than 1000. Use the next() method to print the first 20 prime numbers."
   ]
  },
  {
   "cell_type": "code",
   "execution_count": 20,
   "id": "99bd725e",
   "metadata": {},
   "outputs": [],
   "source": [
    "def is_prime(num):\n",
    "    if num < 2:\n",
    "        return False\n",
    "    for i in range(2, int(num**0.5) + 1):\n",
    "        if num % i == 0:\n",
    "            return False\n",
    "    return True"
   ]
  },
  {
   "cell_type": "code",
   "execution_count": 21,
   "id": "4c6f23f4",
   "metadata": {},
   "outputs": [],
   "source": [
    "def prime_generator():\n",
    "    count = 0\n",
    "    num = 2\n",
    "    while count < 20:\n",
    "        if is_prime(num):\n",
    "            yield num\n",
    "            count += 1\n",
    "        num += 1"
   ]
  },
  {
   "cell_type": "code",
   "execution_count": 22,
   "id": "632090a1",
   "metadata": {},
   "outputs": [
    {
     "name": "stdout",
     "output_type": "stream",
     "text": [
      "2\n",
      "3\n",
      "5\n",
      "7\n",
      "11\n",
      "13\n",
      "17\n",
      "19\n",
      "23\n",
      "29\n",
      "31\n",
      "37\n",
      "41\n",
      "43\n",
      "47\n",
      "53\n",
      "59\n",
      "61\n",
      "67\n",
      "71\n"
     ]
    }
   ],
   "source": [
    "# Using the generator with next() to print the first 20 prime numbers\n",
    "prime_gen = prime_generator()\n",
    "\n",
    "for _ in range(20):\n",
    "    print(next(prime_gen))"
   ]
  },
  {
   "cell_type": "code",
   "execution_count": null,
   "id": "b938d5e9",
   "metadata": {},
   "outputs": [],
   "source": []
  }
 ],
 "metadata": {
  "kernelspec": {
   "display_name": "Python 3 (ipykernel)",
   "language": "python",
   "name": "python3"
  },
  "language_info": {
   "codemirror_mode": {
    "name": "ipython",
    "version": 3
   },
   "file_extension": ".py",
   "mimetype": "text/x-python",
   "name": "python",
   "nbconvert_exporter": "python",
   "pygments_lexer": "ipython3",
   "version": "3.9.13"
  }
 },
 "nbformat": 4,
 "nbformat_minor": 5
}
