{
 "cells": [
  {
   "cell_type": "markdown",
   "id": "245bceb7",
   "metadata": {},
   "source": [
    "Q1. Create a vehicle class with an init method having instance variables as name_of_vehicle, max_speed\n",
    "and average_of_vehicle."
   ]
  },
  {
   "cell_type": "code",
   "execution_count": 3,
   "id": "38abdb9d",
   "metadata": {},
   "outputs": [],
   "source": [
    "class Vehicle:\n",
    "    def __init__(self, name_of_vehicle, max_speed, average_of_vehicle):\n",
    "        self.name_of_vehicle = name_of_vehicle\n",
    "        self.max_speed = max_speed\n",
    "        self.average_of_vehicle = average_of_vehicle"
   ]
  },
  {
   "cell_type": "code",
   "execution_count": 4,
   "id": "5e4eeb83",
   "metadata": {},
   "outputs": [
    {
     "name": "stdout",
     "output_type": "stream",
     "text": [
      "Vehicle Name: Honda City\n",
      "Max Speed: 180 km/h\n",
      "Average: 18 km/l\n"
     ]
    }
   ],
   "source": [
    "# Creating an object of Vehicle\n",
    "my_vehicle = Vehicle(\"Honda City\", 180, 18)\n",
    "\n",
    "# Accessing attributes\n",
    "print(\"Vehicle Name:\", my_vehicle.name_of_vehicle)\n",
    "print(\"Max Speed:\", my_vehicle.max_speed, \"km/h\")\n",
    "print(\"Average:\", my_vehicle.average_of_vehicle, \"km/l\")"
   ]
  },
  {
   "cell_type": "markdown",
   "id": "8d620ff0",
   "metadata": {},
   "source": [
    "Q2. Create a child class car from the vehicle class created in Que 1, which will inherit the vehicle class.\n",
    "Create a method named seating_capacity which takes capacity as an argument and returns the name of\n",
    "the vehicle and its seating capacity."
   ]
  },
  {
   "cell_type": "code",
   "execution_count": 5,
   "id": "37034903",
   "metadata": {},
   "outputs": [],
   "source": [
    "class Car(Vehicle):  # Inheriting from Vehicle class\n",
    "    def seating_capacity(self, capacity):\n",
    "        return f\"{self.name_of_vehicle} has a seating capacity of {capacity} passengers.\""
   ]
  },
  {
   "cell_type": "code",
   "execution_count": 6,
   "id": "23208fa2",
   "metadata": {},
   "outputs": [
    {
     "name": "stdout",
     "output_type": "stream",
     "text": [
      "Toyota Fortuner has a seating capacity of 7 passengers.\n"
     ]
    }
   ],
   "source": [
    "# Creating a Car object (inheriting from Vehicle)\n",
    "my_car = Car(\"Toyota Fortuner\", 200, 12)\n",
    "\n",
    "# Using the seating_capacity method\n",
    "print(my_car.seating_capacity(7))"
   ]
  },
  {
   "cell_type": "markdown",
   "id": "5e676627",
   "metadata": {},
   "source": [
    "Q3. What is multiple inheritance? Write a python code to demonstrate multiple inheritance."
   ]
  },
  {
   "cell_type": "markdown",
   "id": "465b84c4",
   "metadata": {},
   "source": [
    "Q3: What is Multiple Inheritance?\n",
    "Definition:\n",
    "** Multiple Inheritance means a class can inherit from more than one parent class.\n",
    "This allows the child class to have the properties and methods of multiple base classes.\n",
    "\n",
    "Example:\n",
    "Let’s say we have two parent classes:\n",
    "\n",
    "Engine (with a method related to engine type)\n",
    "\n",
    "Body (with a method related to body type)\n",
    "\n",
    "We’ll create a child class Car that inherits from both."
   ]
  },
  {
   "cell_type": "code",
   "execution_count": 7,
   "id": "bcccf01f",
   "metadata": {},
   "outputs": [
    {
     "name": "stdout",
     "output_type": "stream",
     "text": [
      "Diesel Engine with SUV body\n"
     ]
    }
   ],
   "source": [
    "# Parent class 1\n",
    "class Engine:\n",
    "    def engine_type(self):\n",
    "        return \"Diesel Engine\"\n",
    "\n",
    "# Parent class 2\n",
    "class Body:\n",
    "    def body_type(self):\n",
    "        return \"SUV\"\n",
    "\n",
    "# Child class inheriting from both Engine and Body\n",
    "class Car(Engine, Body):\n",
    "    def description(self):\n",
    "        return f\"{self.engine_type()} with {self.body_type()} body\"\n",
    "\n",
    "# Create an object of Car\n",
    "my_car = Car()\n",
    "\n",
    "# Test the combined functionality\n",
    "print(my_car.description())"
   ]
  },
  {
   "cell_type": "markdown",
   "id": "ae099aea",
   "metadata": {},
   "source": [
    "Q4. What are getter and setter in python? Create a class and create a getter and a setter method in this\n",
    "class."
   ]
  },
  {
   "cell_type": "markdown",
   "id": "5a204136",
   "metadata": {},
   "source": [
    "Q4: What are Getter and Setter in Python?\n",
    "** Getter:\n",
    "A method used to access the value of a private attribute.\n",
    "** Setter:\n",
    "A method used to set or update the value of a private attribute.\n",
    "\n",
    "In Python, we often use @property decorators to define getters and setters in a clean way.\n",
    "\n",
    "Why use them?\n",
    "To control access to class attributes.\n",
    "\n",
    "To add validation or constraints while setting values."
   ]
  },
  {
   "cell_type": "code",
   "execution_count": 9,
   "id": "222ce4c0",
   "metadata": {},
   "outputs": [
    {
     "name": "stdout",
     "output_type": "stream",
     "text": [
      "Student Name: Rahul\n"
     ]
    }
   ],
   "source": [
    "class Student:\n",
    "    def __init__(self):\n",
    "        self._name = \"\"  # _name is a protected attribute\n",
    "\n",
    "    # Getter method\n",
    "    @property\n",
    "    def name(self):\n",
    "        return self._name\n",
    "\n",
    "    # Setter method\n",
    "    @name.setter\n",
    "    def name(self, value):\n",
    "        if isinstance(value, str) and value.strip() != \"\":\n",
    "            self._name = value\n",
    "        else:\n",
    "            raise ValueError(\"Name must be a non-empty string.\")\n",
    "\n",
    "# Test the class\n",
    "s = Student()\n",
    "\n",
    "# Set name using setter\n",
    "s.name = \"Rahul\"\n",
    "\n",
    "# Get name using getter\n",
    "print(\"Student Name:\", s.name)\n"
   ]
  },
  {
   "cell_type": "markdown",
   "id": "2ec8df00",
   "metadata": {},
   "source": [
    "Q5.What is method overriding in python? Write a python code to demonstrate method overriding."
   ]
  },
  {
   "cell_type": "markdown",
   "id": "d607f33f",
   "metadata": {},
   "source": [
    "Method overriding occurs when a child class defines a method with the same name as a method in its parent class, thereby replacing (overriding) the parent's implementation when the method is called on a child object."
   ]
  },
  {
   "cell_type": "code",
   "execution_count": null,
   "id": "e6faadc5",
   "metadata": {},
   "outputs": [],
   "source": []
  }
 ],
 "metadata": {
  "kernelspec": {
   "display_name": "Python 3 (ipykernel)",
   "language": "python",
   "name": "python3"
  },
  "language_info": {
   "codemirror_mode": {
    "name": "ipython",
    "version": 3
   },
   "file_extension": ".py",
   "mimetype": "text/x-python",
   "name": "python",
   "nbconvert_exporter": "python",
   "pygments_lexer": "ipython3",
   "version": "3.9.13"
  }
 },
 "nbformat": 4,
 "nbformat_minor": 5
}
