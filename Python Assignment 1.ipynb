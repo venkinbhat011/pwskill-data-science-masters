{
 "cells": [
  {
   "cell_type": "markdown",
   "id": "cd8d8f67",
   "metadata": {},
   "source": [
    "## Q1. What are the characteristics of the tuples? Is tuple immutable?"
   ]
  },
  {
   "cell_type": "markdown",
   "id": "cadcc65b",
   "metadata": {},
   "source": [
    "### The Characteristics of tuples are\n",
    "#### 1) Tuples are immutable.\n",
    "#### 2) Tuples are created using parentheses () and can contain a mix of data types.\n",
    "#### 3) Tuples maintain the order of elements, just like lists. You can access elements in a tuple using indexing.\n",
    "#### 4) Tuples are Heterogeneous so that can contain elements of different data types. \n",
    "#### 5) The size of a tuple is fixed at the time of creation. Once created, you cannot change the number of elements in a tuple.\n",
    "### Yes tuple is immutable"
   ]
  },
  {
   "cell_type": "markdown",
   "id": "9149e1c1",
   "metadata": {},
   "source": [
    "## Q2. What are the two tuple methods in python? Give an example of each method. Give a reason why tuples have only two in-built methods as compared to Lists.\n"
   ]
  },
  {
   "cell_type": "markdown",
   "id": "56528924",
   "metadata": {},
   "source": [
    "###  In Python, tuples have two built-in methods: count() and index()."
   ]
  },
  {
   "cell_type": "code",
   "execution_count": 15,
   "id": "6498a200",
   "metadata": {},
   "outputs": [
    {
     "name": "stdout",
     "output_type": "stream",
     "text": [
      "3\n"
     ]
    }
   ],
   "source": [
    "## count():\n",
    "my_tuple = (1, 2, 2, 3, 2, 4)\n",
    "count_of_2 = my_tuple.count(2)\n",
    "print(count_of_2)  \n"
   ]
  },
  {
   "cell_type": "code",
   "execution_count": 16,
   "id": "cb2d17f1",
   "metadata": {},
   "outputs": [
    {
     "name": "stdout",
     "output_type": "stream",
     "text": [
      "1\n"
     ]
    }
   ],
   "source": [
    "## Index():\n",
    "my_tuple = ('a', 'b', 'c', 'b', 'd')\n",
    "index_of_b = my_tuple.index('b')\n",
    "print(index_of_b)  \n"
   ]
  },
  {
   "cell_type": "markdown",
   "id": "dd649be5",
   "metadata": {},
   "source": [
    "## Reasons why tuples have feewer built-in methods compared to lists\n",
    "### 1) immutablility : Tuples are immutable, that means when tuple is created that can not be changes or modification.\n",
    "### 2) Simplicity and Specialization : The tuple is simple, ordered and collection of eliements. So tuples are only 2 built- in methods."
   ]
  },
  {
   "cell_type": "markdown",
   "id": "da7aaf48",
   "metadata": {},
   "source": [
    "## Q3. Which collection datatypes in python do not allow duplicate items? Write a code using a set to remove duplicates from the given list."
   ]
  },
  {
   "cell_type": "code",
   "execution_count": 17,
   "id": "9f729ffa",
   "metadata": {},
   "outputs": [
    {
     "name": "stdout",
     "output_type": "stream",
     "text": [
      "Original List: [1, 1, 1, 2, 1, 3, 1, 4, 2, 1, 2, 2, 2, 3, 2, 4, 3, 1, 3, 2, 3, 3, 3, 4, 4, 1, 4, 2, 4, 3, 4, 4]\n",
      "List to set converted data :  {1, 2, 3, 4}\n",
      "List with Duplicates Removed: [1, 2, 3, 4]\n"
     ]
    }
   ],
   "source": [
    "## In Python, the collection datatype that does not allow duplicate items is a set. \n",
    "##Sets are unordered collections of unique elements.\n",
    "# Given list with duplicates\n",
    "List = [1, 1, 1, 2, 1, 3, 1, 4, 2, 1, 2, 2, 2, 3, 2, 4, 3, 1, 3, 2, 3, 3, 3, 4, 4, 1, 4, 2, 4, 3, 4, 4]\n",
    "\n",
    "# Convert the list to a set to remove duplicates\n",
    "unique_set = set(List)\n",
    "\n",
    "# Convert the set back to a list if needed\n",
    "unique_list = list(unique_set)\n",
    "\n",
    "# Print the result\n",
    "print(\"Original List:\", List)\n",
    "print(\"List to set converted data : \",unique_set)\n",
    "print(\"List with Duplicates Removed:\", unique_list)\n"
   ]
  },
  {
   "cell_type": "markdown",
   "id": "9beae343",
   "metadata": {},
   "source": [
    "## Q4. Explain the difference between the union() and update() methods for a set. Give an example of each method."
   ]
  },
  {
   "cell_type": "code",
   "execution_count": 18,
   "id": "157faf6f",
   "metadata": {},
   "outputs": [
    {
     "name": "stdout",
     "output_type": "stream",
     "text": [
      "{1, 2, 3, 4, 5}\n"
     ]
    }
   ],
   "source": [
    "## union() Method:\n",
    "##The union() method returns a new set containing all unique elements from the sets involved in the operation. \n",
    "##It does not modify the original sets.\n",
    "##Syntax: set1.union(set2, set3, ...)\n",
    "set1 = {1, 2, 3}\n",
    "set2 = {3, 4, 5}\n",
    "union_set = set1.union(set2)\n",
    "print(union_set)  "
   ]
  },
  {
   "cell_type": "code",
   "execution_count": 19,
   "id": "f7fd58c1",
   "metadata": {},
   "outputs": [
    {
     "name": "stdout",
     "output_type": "stream",
     "text": [
      "{1, 2, 3, 4, 5}\n"
     ]
    }
   ],
   "source": [
    "## update() Method:\n",
    "## The update() method, on the other hand, modifies the set it is called on by adding elements from another iterable \n",
    "##(e.g., another set, list, or tuple). \n",
    "##It performs an in-place operation and does not return a new set.\n",
    "## Syntax: set1.update(iterable)\n",
    "set1 = {1, 2, 3}\n",
    "set2 = {3, 4, 5}\n",
    "set1.update(set2)\n",
    "print(set1)  # Output: {1, 2, 3, 4, 5}\n"
   ]
  },
  {
   "cell_type": "markdown",
   "id": "876d6a9a",
   "metadata": {},
   "source": [
    "### Key Differences :\n",
    "#### union() returns a new set without modifying the original sets, while update() modifies the set it is called on in-place.\n",
    "#### union() takes one or more sets as arguments, while update() takes an iterable (e.g., set, list, tuple)."
   ]
  },
  {
   "cell_type": "markdown",
   "id": "63eb9087",
   "metadata": {},
   "source": [
    "## Q5. What is a dictionary? Give an example. Also, state whether a dictionary is ordered or unordered."
   ]
  },
  {
   "cell_type": "code",
   "execution_count": 20,
   "id": "899c1712",
   "metadata": {},
   "outputs": [
    {
     "name": "stdout",
     "output_type": "stream",
     "text": [
      "Name: Mohan\n",
      "Age: 25\n",
      "City: Tamil Nadu\n"
     ]
    }
   ],
   "source": [
    "## A dictionary in Python is an unordered collection of key-value pairs. \n",
    "##It is a mutable data type, allowing for the addition, modification, and removal of key-value pairs. \n",
    "##Each key in a dictionary must be unique, and it is associated with a specific value.\n",
    "# Creating a dictionary\n",
    "my_dict = {\n",
    "    'name': 'Mohan',\n",
    "    'age': 25,\n",
    "    'city': 'Tamil Nadu'\n",
    "}\n",
    "\n",
    "# Accessing values using keys\n",
    "print(\"Name:\", my_dict['name'])\n",
    "print(\"Age:\", my_dict['age'])\n",
    "print(\"City:\", my_dict['city'])"
   ]
  },
  {
   "cell_type": "markdown",
   "id": "b2782793",
   "metadata": {},
   "source": [
    "## Ordered or Unordered.\n",
    "#### In Python 3.7 and earlier dictionaries are unordered and starting from Pythoon 3.7+, dictionaries maintain the insertion order of items."
   ]
  },
  {
   "cell_type": "markdown",
   "id": "08f80c69",
   "metadata": {},
   "source": [
    "## Q6. Can we create a nested dictionary? If so, please give an example by creating a simple one-level nested dictionary."
   ]
  },
  {
   "cell_type": "code",
   "execution_count": 21,
   "id": "391f11e8",
   "metadata": {},
   "outputs": [
    {
     "name": "stdout",
     "output_type": "stream",
     "text": [
      "Name: Mahesh\n",
      "Age: 25\n",
      "Street: near dilsuk nagar\n",
      "City: Hydrabad\n",
      "Email: maheshmoni011@gmail.com\n"
     ]
    }
   ],
   "source": [
    "## Yes, it is possible to create dictionary in python.\n",
    "# Creating a one-level nested dictionary\n",
    "person = {\n",
    "    'name': 'Mahesh',\n",
    "    'age': 25,\n",
    "    'address': {\n",
    "        'street': 'near dilsuk nagar',\n",
    "        'city': 'Hydrabad',\n",
    "        'zipcode': '500060'\n",
    "    },\n",
    "    'contact': {\n",
    "        'email': 'maheshmoni011@gmail.com',\n",
    "        'phone': '9443244224'\n",
    "    }\n",
    "}\n",
    "\n",
    "# Accessing values in the nested dictionary\n",
    "print(\"Name:\", person['name'])\n",
    "print(\"Age:\", person['age'])\n",
    "print(\"Street:\", person['address']['street'])\n",
    "print(\"City:\", person['address']['city'])\n",
    "print(\"Email:\", person['contact']['email'])\n"
   ]
  },
  {
   "cell_type": "markdown",
   "id": "6ec0962c",
   "metadata": {},
   "source": [
    "## Q7. Using setdefault() method, create key named topics in the given dictionary and also add the value of\n",
    "## the key as this list ['Python', 'Machine Learning’, 'Deep Learning']\n",
    "## dict1 = {'language' : 'Python', 'course': 'Data Science Masters'}"
   ]
  },
  {
   "cell_type": "code",
   "execution_count": 22,
   "id": "43a74b0e",
   "metadata": {},
   "outputs": [
    {
     "name": "stdout",
     "output_type": "stream",
     "text": [
      "Updated Dictionary: {'language': 'Python', 'course': 'Data Science Masters', 'topics': ['Python', 'Machine Learning', 'Deep Learning']}\n",
      "Value of 'topics' key: ['Python', 'Machine Learning', 'Deep Learning']\n"
     ]
    }
   ],
   "source": [
    "## The setdefault() method in Python is used to insert a key with a default value into a dictionary if the key is not present. \n",
    "## If the key is already present, it returns the corresponding value. \n",
    "## Here's how you can use setdefault() to add a key named 'topics' with the specified list as its value:\n",
    "dict1 = {'language': 'Python', 'course': 'Data Science Masters'}\n",
    "\n",
    "# Using setdefault() to add the 'topics' key with a default value\n",
    "topics_list = ['Python', 'Machine Learning', 'Deep Learning']\n",
    "topics_value = dict1.setdefault('topics', topics_list)\n",
    "\n",
    "# Printing the updated dictionary\n",
    "print(\"Updated Dictionary:\", dict1)\n",
    "\n",
    "# Printing the value associated with the 'topics' key\n",
    "print(\"Value of 'topics' key:\", topics_value)\n"
   ]
  },
  {
   "cell_type": "markdown",
   "id": "934a2273",
   "metadata": {},
   "source": [
    "## Q8. What are the three view objects in dictionaries? Use the three in-built methods in python to display\n",
    "## these three view objects for the given dictionary.\n",
    "## dict1 = {'Sport': 'Cricket' , 'Teams': ['India', 'Australia', 'England', 'South Africa', 'Sri Lanka', 'New Zealand']}"
   ]
  },
  {
   "cell_type": "code",
   "execution_count": 23,
   "id": "94faa46a",
   "metadata": {},
   "outputs": [
    {
     "name": "stdout",
     "output_type": "stream",
     "text": [
      "dict_keys: dict_keys(['Sport', 'Teams'])\n",
      "dict_values: dict_values(['Cricket', ['India', 'Australia', 'England', 'South Africa', 'Sri Lanka', 'New Zealand']])\n",
      "dict_items: dict_items([('Sport', 'Cricket'), ('Teams', ['India', 'Australia', 'England', 'South Africa', 'Sri Lanka', 'New Zealand'])])\n"
     ]
    }
   ],
   "source": [
    "## In Python dictionaries, \n",
    "## there are three view objects that provide dynamic views of the dictionary's keys, values, and key-value pairs. \n",
    "## These view objects are:\n",
    "## dict_keys: This view object displays a list of all the keys in the dictionary.\n",
    "## dict_values: This view object displays a list of all the values in the dictionary.\n",
    "## dict_items: This view object displays a list of key-value pairs in the dictionary.\n",
    "dict1 = {'Sport': 'Cricket', 'Teams': ['India', 'Australia', 'England', 'South Africa', 'Sri Lanka', 'New Zealand']}\n",
    "\n",
    "# Get the dict_keys view object\n",
    "keys_view = dict1.keys()\n",
    "\n",
    "# Get the dict_values view object\n",
    "values_view = dict1.values()\n",
    "\n",
    "# Get the dict_items view object\n",
    "items_view = dict1.items()\n",
    "\n",
    "# Displaying the view objects\n",
    "print(\"dict_keys:\", keys_view)\n",
    "print(\"dict_values:\", values_view)\n",
    "print(\"dict_items:\", items_view)\n"
   ]
  }
 ],
 "metadata": {
  "kernelspec": {
   "display_name": "Python 3 (ipykernel)",
   "language": "python",
   "name": "python3"
  },
  "language_info": {
   "codemirror_mode": {
    "name": "ipython",
    "version": 3
   },
   "file_extension": ".py",
   "mimetype": "text/x-python",
   "name": "python",
   "nbconvert_exporter": "python",
   "pygments_lexer": "ipython3",
   "version": "3.9.13"
  }
 },
 "nbformat": 4,
 "nbformat_minor": 5
}
