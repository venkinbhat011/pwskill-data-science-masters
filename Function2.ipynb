{
 "cells": [
  {
   "cell_type": "markdown",
   "id": "fe02f706",
   "metadata": {},
   "source": [
    "## Q1. Create a python program to sort the given list of tuples based on integer value using a lambda function.\n",
    "\n",
    "### [('Sachin Tendulkar', 34357), ('Ricky Ponting', 27483), ('Jack Kallis', 25534), ('Virat Kohli', 24936)]\n",
    "\n"
   ]
  },
  {
   "cell_type": "code",
   "execution_count": 1,
   "id": "664a5fcb",
   "metadata": {},
   "outputs": [],
   "source": [
    "# Given list of tuples\n",
    "players = [('Sachin Tendulkar', 34357), ('Ricky Ponting', 27483), ('Jack Kallis', 25534), ('Virat Kohli', 24936)]"
   ]
  },
  {
   "cell_type": "code",
   "execution_count": 2,
   "id": "f8463bd6",
   "metadata": {},
   "outputs": [],
   "source": [
    "# Sort the list based on the second element (integer value) using a lambda function\n",
    "sorted_players = sorted(players, key=lambda x: x[1])"
   ]
  },
  {
   "cell_type": "code",
   "execution_count": 3,
   "id": "a52cc4ab",
   "metadata": {},
   "outputs": [
    {
     "name": "stdout",
     "output_type": "stream",
     "text": [
      "('Virat Kohli', 24936)\n",
      "('Jack Kallis', 25534)\n",
      "('Ricky Ponting', 27483)\n",
      "('Sachin Tendulkar', 34357)\n"
     ]
    }
   ],
   "source": [
    "# Print the sorted list\n",
    "for player in sorted_players:\n",
    "    print(player)"
   ]
  },
  {
   "cell_type": "markdown",
   "id": "a428a167",
   "metadata": {},
   "source": [
    "## Q2. Write a Python Program to find the squares of all the numbers in the given list of integers using lambda and map functions.\n",
    "### [1, 2, 3, 4, 5, 6, 7, 8, 9, 10]"
   ]
  },
  {
   "cell_type": "code",
   "execution_count": 4,
   "id": "9e14993e",
   "metadata": {},
   "outputs": [],
   "source": [
    "# Given list of integers\n",
    "numbers = [1, 2, 3, 4, 5, 6, 7, 8, 9, 10]"
   ]
  },
  {
   "cell_type": "code",
   "execution_count": 5,
   "id": "18733306",
   "metadata": {},
   "outputs": [],
   "source": [
    "# Use map() with a lambda function to find the squares\n",
    "squares = map(lambda x: x**2, numbers)"
   ]
  },
  {
   "cell_type": "code",
   "execution_count": 6,
   "id": "f4aefa41",
   "metadata": {},
   "outputs": [
    {
     "name": "stdout",
     "output_type": "stream",
     "text": [
      "[1, 4, 9, 16, 25, 36, 49, 64, 81, 100]\n"
     ]
    }
   ],
   "source": [
    "# Convert the map object to a list and print the squares\n",
    "squares_list = list(squares)\n",
    "print(squares_list)"
   ]
  },
  {
   "cell_type": "markdown",
   "id": "4428dbd4",
   "metadata": {},
   "source": [
    "## Q3. Write a python program to convert the given list of integers into a tuple of strings. Use map and lambda functions\n",
    "### Given String: [1, 2, 3, 4, 5, 6, 7, 8, 9, 10]\n",
    "### Expected output: ('1', '2', '3', '4', '5', '6', '7', '8', '9', '10')"
   ]
  },
  {
   "cell_type": "code",
   "execution_count": 7,
   "id": "b5653863",
   "metadata": {},
   "outputs": [],
   "source": [
    "# Given list of integers\n",
    "numbers = [1, 2, 3, 4, 5, 6, 7, 8, 9, 10]"
   ]
  },
  {
   "cell_type": "code",
   "execution_count": 8,
   "id": "94d79f1d",
   "metadata": {},
   "outputs": [],
   "source": [
    "# Use map() with a lambda function to convert integers to strings\n",
    "string_tuple = tuple(map(lambda x: str(x), numbers))"
   ]
  },
  {
   "cell_type": "code",
   "execution_count": 9,
   "id": "3075a0a5",
   "metadata": {},
   "outputs": [
    {
     "name": "stdout",
     "output_type": "stream",
     "text": [
      "('1', '2', '3', '4', '5', '6', '7', '8', '9', '10')\n"
     ]
    }
   ],
   "source": [
    "# Print the resulting tuple of strings\n",
    "print(string_tuple)"
   ]
  },
  {
   "cell_type": "markdown",
   "id": "63b6ea04",
   "metadata": {},
   "source": [
    "## Q4. Write a python program using reduce function to compute the product of a list containing numbers from 1 to 25."
   ]
  },
  {
   "cell_type": "code",
   "execution_count": 10,
   "id": "51e1599f",
   "metadata": {},
   "outputs": [],
   "source": [
    "from functools import reduce"
   ]
  },
  {
   "cell_type": "code",
   "execution_count": 11,
   "id": "ebb22bb4",
   "metadata": {},
   "outputs": [],
   "source": [
    "# Generate a list of numbers from 1 to 25\n",
    "numbers = list(range(1, 26))"
   ]
  },
  {
   "cell_type": "code",
   "execution_count": 12,
   "id": "8f17a8b4",
   "metadata": {},
   "outputs": [],
   "source": [
    "# Use reduce() with a lambda function to compute the product\n",
    "product = reduce(lambda x, y: x * y, numbers)"
   ]
  },
  {
   "cell_type": "code",
   "execution_count": 13,
   "id": "d3f1f660",
   "metadata": {},
   "outputs": [
    {
     "name": "stdout",
     "output_type": "stream",
     "text": [
      "Product of numbers from 1 to 25: 15511210043330985984000000\n"
     ]
    }
   ],
   "source": [
    "# Print the computed product\n",
    "print(\"Product of numbers from 1 to 25:\", product)"
   ]
  },
  {
   "cell_type": "markdown",
   "id": "011ae184",
   "metadata": {},
   "source": [
    "## Q5. Write a python program to filter the numbers in a given list that are divisible by 2 and 3 using the filter function.\n",
    "### [2, 3, 6, 9, 27, 60, 90, 120, 55, 46]"
   ]
  },
  {
   "cell_type": "code",
   "execution_count": 14,
   "id": "cc757a06",
   "metadata": {},
   "outputs": [],
   "source": [
    "# Given list of numbers\n",
    "numbers = [2, 3, 6, 9, 27, 60, 90, 120, 55, 46]"
   ]
  },
  {
   "cell_type": "code",
   "execution_count": 15,
   "id": "0f4e717f",
   "metadata": {},
   "outputs": [],
   "source": [
    "# Use filter() with a lambda function to filter numbers divisible by 2 and 3\n",
    "filtered_numbers = list(filter(lambda x: x % 2 == 0 and x % 3 == 0, numbers))"
   ]
  },
  {
   "cell_type": "code",
   "execution_count": 16,
   "id": "91eca84c",
   "metadata": {},
   "outputs": [
    {
     "name": "stdout",
     "output_type": "stream",
     "text": [
      "Numbers divisible by 2 and 3: [6, 60, 90, 120]\n"
     ]
    }
   ],
   "source": [
    "# Print the filtered numbers\n",
    "print(\"Numbers divisible by 2 and 3:\", filtered_numbers)"
   ]
  },
  {
   "cell_type": "markdown",
   "id": "f8a6e0c8",
   "metadata": {},
   "source": [
    "## Q6. Write a python program to find palindromes in the given list of strings using lambda and filter function.\n",
    "### ['python', 'php', 'aba', 'radar', 'level']"
   ]
  },
  {
   "cell_type": "code",
   "execution_count": 17,
   "id": "2840719c",
   "metadata": {},
   "outputs": [],
   "source": [
    "# Given list of strings\n",
    "words = ['python', 'php', 'aba', 'radar', 'level']"
   ]
  },
  {
   "cell_type": "code",
   "execution_count": 18,
   "id": "c49c7cf7",
   "metadata": {},
   "outputs": [],
   "source": [
    "# Use filter() with a lambda function to filter palindromes\n",
    "palindromes = list(filter(lambda x: x == x[::-1], words))"
   ]
  },
  {
   "cell_type": "code",
   "execution_count": 19,
   "id": "5d4539b5",
   "metadata": {},
   "outputs": [
    {
     "name": "stdout",
     "output_type": "stream",
     "text": [
      "Palindromes in the list: ['php', 'aba', 'radar', 'level']\n"
     ]
    }
   ],
   "source": [
    "# Print the palindromes\n",
    "print(\"Palindromes in the list:\", palindromes)"
   ]
  },
  {
   "cell_type": "code",
   "execution_count": null,
   "id": "23501b64",
   "metadata": {},
   "outputs": [],
   "source": []
  }
 ],
 "metadata": {
  "kernelspec": {
   "display_name": "Python 3 (ipykernel)",
   "language": "python",
   "name": "python3"
  },
  "language_info": {
   "codemirror_mode": {
    "name": "ipython",
    "version": 3
   },
   "file_extension": ".py",
   "mimetype": "text/x-python",
   "name": "python",
   "nbconvert_exporter": "python",
   "pygments_lexer": "ipython3",
   "version": "3.9.13"
  }
 },
 "nbformat": 4,
 "nbformat_minor": 5
}
