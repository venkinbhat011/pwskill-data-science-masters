{
 "cells": [
  {
   "cell_type": "markdown",
   "id": "0fb35df2",
   "metadata": {},
   "source": [
    "### Q1. Explain Class and Object with respect to Object-Oriented Programming. Give a suitable example."
   ]
  },
  {
   "cell_type": "markdown",
   "id": "ddf8598c",
   "metadata": {},
   "source": [
    "#### In object-oriented programming (OOP), a class is a blueprint or template for creating objects (instances) of that class. It defines the properties (attributes) and behaviors (methods) that all objects of that class will have. An object, on the other hand, is an instance of a class. It represents a specific entity or instance of the class, with its own set of property values and behavior."
   ]
  },
  {
   "cell_type": "code",
   "execution_count": 52,
   "id": "cc74395f",
   "metadata": {},
   "outputs": [],
   "source": [
    "class student:\n",
    "    def __init__(self , name, std, roll_number,kannada, english, sanskrit, maths, science, social_science):\n",
    "        self.name = name\n",
    "        self.std = std\n",
    "        self.roll_number = roll_number\n",
    "        self.kannada = kannada\n",
    "        self.english = english\n",
    "        self.sanskrit = sanskrit\n",
    "        self.maths = maths\n",
    "        self.science = science\n",
    "        self.social_science = social_science\n",
    "        self.total = kannada + english + sanskrit+ maths + science+ social_science\n",
    "        self. percentage = (self.total/600)*100\n",
    "        \n",
    "    def return_student_details(self):\n",
    "        return self.name,self.std,self.roll_number,self.kannada,self.english,self.sanskrit,self.maths,self.science,self.social_science,self.total, self.percentage \n",
    "    "
   ]
  },
  {
   "cell_type": "code",
   "execution_count": 58,
   "id": "f018b44c",
   "metadata": {},
   "outputs": [],
   "source": [
    "student1 = student(\"mohan\",10, 1,65,45,72,82,35,48)\n",
    "student2 = student(\"Kamala\", 10, 2, 84,78,96,82,74,68)\n",
    "student3 = student(\"Asif\", 10, 3,87,42,32,78,43,45 )"
   ]
  },
  {
   "cell_type": "code",
   "execution_count": 59,
   "id": "74bafd0d",
   "metadata": {},
   "outputs": [
    {
     "data": {
      "text/plain": [
       "('mohan', 10, 1, 65, 45, 72, 82, 35, 48, 347, 57.833333333333336)"
      ]
     },
     "execution_count": 59,
     "metadata": {},
     "output_type": "execute_result"
    }
   ],
   "source": [
    "student1.return_student_details()"
   ]
  },
  {
   "cell_type": "code",
   "execution_count": 61,
   "id": "0f08994b",
   "metadata": {},
   "outputs": [
    {
     "name": "stdout",
     "output_type": "stream",
     "text": [
      "('Kamala', 10, 2, 84, 78, 96, 82, 74, 68, 482, 80.33333333333333)\n"
     ]
    }
   ],
   "source": [
    "print(student2.return_student_details())"
   ]
  },
  {
   "cell_type": "code",
   "execution_count": 63,
   "id": "0f65a448",
   "metadata": {},
   "outputs": [
    {
     "data": {
      "text/plain": [
       "('Asif', 10, 3, 87, 42, 32, 78, 43, 45, 327, 54.50000000000001)"
      ]
     },
     "execution_count": 63,
     "metadata": {},
     "output_type": "execute_result"
    }
   ],
   "source": [
    "student3.return_student_details()"
   ]
  },
  {
   "cell_type": "markdown",
   "id": "aa317cbc",
   "metadata": {},
   "source": [
    "### Q2. Name the four pillars of OOPs."
   ]
  },
  {
   "cell_type": "markdown",
   "id": "a830bc8e",
   "metadata": {},
   "source": [
    "####  1. Encapsulation: Encapsulation is the bundling of data (attributes) and methods (functions) that operate on the data into a single unit, called a class. It restricts access to some of the object's components, which can prevent the accidental modification of data.\n",
    "\n",
    "##### 2. Abstraction: Abstraction is the concept of hiding the complex implementation details and showing only the necessary features of an object. It allows the programmer to focus on what the object does rather than how it does it.\n",
    "\n",
    "#### 3. Inheritance: Inheritance is a mechanism where a new class derives attributes and methods from an existing class. The new class, called a subclass or derived class, can reuse and extend the functionality of the existing class, called a superclass or base class.\n",
    "\n",
    "#### 4. Polymorphism: Polymorphism means the ability of objects to take on multiple forms. In OOP, polymorphism allows objects of different classes to be treated as objects of a common superclass. This allows for more flexibility and scalability in code design."
   ]
  },
  {
   "cell_type": "markdown",
   "id": "e90443e9",
   "metadata": {},
   "source": [
    "### Q3. Explain why the __init__() function is used. Give a suitable example."
   ]
  },
  {
   "cell_type": "markdown",
   "id": "1f0d41c7",
   "metadata": {},
   "source": [
    "#### In Python, the __init__() function is a special method used for initializing newly created objects. It is called a constructor method because it initializes the object's attributes. The __init__() method is automatically called when a new object of a class is created."
   ]
  },
  {
   "cell_type": "markdown",
   "id": "51553745",
   "metadata": {},
   "source": [
    "#### Here's an example to illustrate the use of the __init__() method:"
   ]
  },
  {
   "cell_type": "code",
   "execution_count": 65,
   "id": "9f7dc469",
   "metadata": {},
   "outputs": [],
   "source": [
    "class Person:\n",
    "    def __init__(self, name, age):\n",
    "        self.name = name\n",
    "        self.age = age\n",
    "\n",
    "    def display_info(self):\n",
    "        print(f\"Name: {self.name}, Age: {self.age}\")\n",
    "\n"
   ]
  },
  {
   "cell_type": "code",
   "execution_count": 67,
   "id": "9dbbf81a",
   "metadata": {},
   "outputs": [
    {
     "name": "stdout",
     "output_type": "stream",
     "text": [
      "Name: Chakresh, Age: 30\n",
      "Name: Bhanumathi, Age: 25\n"
     ]
    }
   ],
   "source": [
    "# Creating an instance of the Person class\n",
    "person1 = Person(\"Chakresh\", 30)\n",
    "person1.display_info()\n",
    "\n",
    "person2 = Person(\"Bhanumathi\", 25)\n",
    "person2.display_info()\n"
   ]
  },
  {
   "cell_type": "markdown",
   "id": "bf1f109d",
   "metadata": {},
   "source": [
    "### Q4. Why self is used in OOPs?"
   ]
  },
  {
   "cell_type": "markdown",
   "id": "b788a68c",
   "metadata": {},
   "source": [
    "#### In Python, when you call a method on an object, the object itself is automatically passed as the first argument to the method. By convention, this first argument is named self, but you can use any name you prefer. The self parameter allows you to access the attributes and methods of the current object within the class definition."
   ]
  },
  {
   "cell_type": "markdown",
   "id": "4bd902cd",
   "metadata": {},
   "source": [
    "### Q5. What is inheritance? Give an example for each type of inheritance."
   ]
  },
  {
   "cell_type": "markdown",
   "id": "a3ac8388",
   "metadata": {},
   "source": [
    "#### Inheritance is a fundamental concept in object-oriented programming that allows a class to inherit attributes and methods from another class. This mechanism promotes code reuse and establishes a relationship between the base (or parent) class and the derived (or child) class. There are several types of inheritance in OOP:"
   ]
  },
  {
   "cell_type": "markdown",
   "id": "8377a34e",
   "metadata": {},
   "source": [
    "#### 1. Single Inheritance\n",
    "Single inheritance occurs when a class inherits from only one parent class."
   ]
  },
  {
   "cell_type": "code",
   "execution_count": 68,
   "id": "7b20ca63",
   "metadata": {},
   "outputs": [],
   "source": [
    "class Animal:\n",
    "    def speak(self):\n",
    "        print(\"Animal speaks\")\n",
    "\n",
    "class Dog(Animal):\n",
    "    def bark(self):\n",
    "        print(\"Dog barks\")"
   ]
  },
  {
   "cell_type": "code",
   "execution_count": 69,
   "id": "c1ae1ee6",
   "metadata": {},
   "outputs": [
    {
     "name": "stdout",
     "output_type": "stream",
     "text": [
      "Animal speaks\n",
      "Dog barks\n"
     ]
    }
   ],
   "source": [
    "\n",
    "dog = Dog()\n",
    "dog.speak()  # Inherited from Animal class\n",
    "dog.bark()  # Defined in Dog class\n"
   ]
  },
  {
   "cell_type": "markdown",
   "id": "ca118d49",
   "metadata": {},
   "source": [
    "#### 2. Multiple Inheritance\n",
    "Multiple inheritance occurs when a class inherits from more than one parent class."
   ]
  },
  {
   "cell_type": "code",
   "execution_count": 70,
   "id": "e276638b",
   "metadata": {},
   "outputs": [],
   "source": [
    "class Father:\n",
    "    def gardening(self):\n",
    "        print(\"Father enjoys gardening\")\n",
    "\n",
    "class Mother:\n",
    "    def cooking(self):\n",
    "        print(\"Mother enjoys cooking\")\n",
    "\n",
    "class Child(Father, Mother):\n",
    "    def playing(self):\n",
    "        print(\"Child enjoys playing\")\n"
   ]
  },
  {
   "cell_type": "code",
   "execution_count": 71,
   "id": "719cb6c4",
   "metadata": {},
   "outputs": [
    {
     "name": "stdout",
     "output_type": "stream",
     "text": [
      "Father enjoys gardening\n",
      "Mother enjoys cooking\n",
      "Child enjoys playing\n"
     ]
    }
   ],
   "source": [
    "child = Child()\n",
    "child.gardening()  # Inherited from Father class\n",
    "child.cooking()  # Inherited from Mother class\n",
    "child.playing()  # Defined in Child class"
   ]
  },
  {
   "cell_type": "markdown",
   "id": "77b5d6c9",
   "metadata": {},
   "source": [
    "#### 3. Multilevel Inheritance\n",
    "Multilevel inheritance occurs when a class is derived from a class which itself is derived from another class."
   ]
  },
  {
   "cell_type": "code",
   "execution_count": 74,
   "id": "28e3f391",
   "metadata": {},
   "outputs": [],
   "source": [
    "class Grandparent:\n",
    "    def walking(self):\n",
    "        print(\"Grandparent enjoys walking\")\n",
    "\n",
    "class Parent(Grandparent):\n",
    "    def reading(self):\n",
    "        print(\"Parent enjoys reading\")\n",
    "\n",
    "class Child(Parent):\n",
    "    def playing(self):\n",
    "        print(\"Child enjoys playing\")\n",
    "\n"
   ]
  },
  {
   "cell_type": "code",
   "execution_count": 75,
   "id": "c7698eb2",
   "metadata": {},
   "outputs": [
    {
     "name": "stdout",
     "output_type": "stream",
     "text": [
      "Grandparent enjoys walking\n",
      "Parent enjoys reading\n",
      "Child enjoys playing\n"
     ]
    }
   ],
   "source": [
    "child = Child()\n",
    "child.walking()  # Inherited from Grandparent class\n",
    "child.reading()  # Inherited from Parent class\n",
    "child.playing()  # Defined in Child class\n"
   ]
  },
  {
   "cell_type": "markdown",
   "id": "38b2c109",
   "metadata": {},
   "source": [
    "#### 4. Hierarchical Inheritance\n",
    "Hierarchical inheritance occurs when multiple classes inherit from a single parent class."
   ]
  },
  {
   "cell_type": "code",
   "execution_count": 76,
   "id": "e5dd995c",
   "metadata": {},
   "outputs": [],
   "source": [
    "class Parent:\n",
    "    def thinking(self):\n",
    "        print(\"Parent thinks\")\n",
    "\n",
    "class Child1(Parent):\n",
    "    def playing(self):\n",
    "        print(\"Child1 enjoys playing\")\n",
    "\n",
    "class Child2(Parent):\n",
    "    def drawing(self):\n",
    "        print(\"Child2 enjoys drawing\")\n"
   ]
  },
  {
   "cell_type": "code",
   "execution_count": 77,
   "id": "77c7017c",
   "metadata": {},
   "outputs": [
    {
     "name": "stdout",
     "output_type": "stream",
     "text": [
      "Parent thinks\n",
      "Parent thinks\n"
     ]
    }
   ],
   "source": [
    "child1 = Child1()\n",
    "child2 = Child2()\n",
    "child1.thinking()  # Inherited from Parent class\n",
    "child2.thinking()  # Inherited from Parent class\n"
   ]
  },
  {
   "cell_type": "markdown",
   "id": "07ac4ca9",
   "metadata": {},
   "source": [
    "#### 5. Hybrid Inheritance\n",
    "Hybrid inheritance is a combination of two or more types of inheritance. For example, it may involve multiple and multilevel inheritance."
   ]
  },
  {
   "cell_type": "code",
   "execution_count": 78,
   "id": "f028dcb8",
   "metadata": {},
   "outputs": [],
   "source": [
    "class Parent:\n",
    "    def thinking(self):\n",
    "        print(\"Parent thinks\")\n",
    "\n",
    "class Child1(Parent):\n",
    "    def playing(self):\n",
    "        print(\"Child1 enjoys playing\")\n",
    "\n",
    "class Child2(Parent):\n",
    "    def drawing(self):\n",
    "        print(\"Child2 enjoys drawing\")\n",
    "\n",
    "class Grandchild(Child1, Child2):\n",
    "    def learning(self):\n",
    "        print(\"Grandchild enjoys learning\")"
   ]
  },
  {
   "cell_type": "code",
   "execution_count": 79,
   "id": "f328cd19",
   "metadata": {},
   "outputs": [
    {
     "name": "stdout",
     "output_type": "stream",
     "text": [
      "Parent thinks\n",
      "Child1 enjoys playing\n",
      "Child2 enjoys drawing\n",
      "Grandchild enjoys learning\n"
     ]
    }
   ],
   "source": [
    "grandchild = Grandchild()\n",
    "grandchild.thinking()  # Inherited from Parent class\n",
    "grandchild.playing()  # Inherited from Child1\n",
    "grandchild.drawing()  # Inherited from Child2\n",
    "grandchild.learning()  # Defined in Grandchild class\n"
   ]
  }
 ],
 "metadata": {
  "kernelspec": {
   "display_name": "Python 3 (ipykernel)",
   "language": "python",
   "name": "python3"
  },
  "language_info": {
   "codemirror_mode": {
    "name": "ipython",
    "version": 3
   },
   "file_extension": ".py",
   "mimetype": "text/x-python",
   "name": "python",
   "nbconvert_exporter": "python",
   "pygments_lexer": "ipython3",
   "version": "3.9.13"
  }
 },
 "nbformat": 4,
 "nbformat_minor": 5
}
