{
 "cells": [
  {
   "cell_type": "markdown",
   "id": "f1b56a3b",
   "metadata": {},
   "source": [
    "Q1. You are writing code for a company. The requirement of the company is that you create a python\n",
    "function that will check whether the password entered by the user is correct or not. The function should\n",
    "take the password as input and return the string “Valid Password” if the entered password follows the\n",
    "below-given password guidelines else it should return “Invalid Password”.\n",
    "Note: 1. The Password should contain at least two uppercase letters and at least two lowercase letters.\n",
    "2. The Password should contain at least a number and three special characters.\n",
    "3. The length of the password should be 10 characters long."
   ]
  },
  {
   "cell_type": "code",
   "execution_count": 8,
   "id": "b99d65fb",
   "metadata": {},
   "outputs": [],
   "source": [
    "import string\n",
    "\n",
    "def validate_password(password):\n",
    "    if len(password) != 10:\n",
    "        return \"Invalid Password\"\n",
    "\n",
    "    upper = sum(1 for c in password if c.isupper())\n",
    "    lower = sum(1 for c in password if c.islower())\n",
    "    digit = sum(1 for c in password if c.isdigit())\n",
    "    special = sum(1 for c in password if c in string.punctuation)\n",
    "\n",
    "    if upper >= 2 and lower >= 2 and digit >= 1 and special >= 3:\n",
    "        return \"Valid Password\"\n",
    "    else:\n",
    "        return \"Invalid Password\""
   ]
  },
  {
   "cell_type": "code",
   "execution_count": 9,
   "id": "3cc84574",
   "metadata": {},
   "outputs": [
    {
     "name": "stdout",
     "output_type": "stream",
     "text": [
      "Valid Password\n",
      "Invalid Password\n",
      "Valid Password\n",
      "Invalid Password\n"
     ]
    }
   ],
   "source": [
    "print(validate_password(\"Abc@#1Xy&Z\"))  # ✅ Valid\n",
    "print(validate_password(\"abC1!@#$%^\")) # ❌ Invalid (more than 10 characters)\n",
    "print(validate_password(\"A1b!C@d#e$\")) # ✅ Valid\n",
    "print(validate_password(\"abcde12345\")) # ❌ Invalid (no uppercase, no special chars)"
   ]
  },
  {
   "cell_type": "markdown",
   "id": "08b28250",
   "metadata": {},
   "source": [
    "Q2. Solve the below-given questions using at least one of the following:\n",
    "1. Lambda function\n",
    "2. Filter function\n",
    "3. Map function\n",
    "4. List ComprehensioI\n",
    "\n",
    "A Check if the string starts with a particular letterY\n",
    "\n",
    "B Check if the string is numericY\n",
    "\n",
    "C Sort a list of tuples having fruit names and their quantity. [(\"mango\",99),(\"orange\",80), (\"grapes\", 1000)-\n",
    "\n",
    "D Find the squares of numbers from 1 to 10Y\n",
    "\n",
    "E Find the cube root of numbers from 1 to 10Y\n",
    "\n",
    "F Check if a given number is evenY\n",
    "\n",
    "G Filter odd numbers from the given list.\n",
    "[1,2,3,4,5,6,7,8,9,10]\n",
    "\n",
    "H Sort a list of integers into positive and negative integers lists.\n",
    "[1,2,3,4,5,6,-1,-2,-3,-4,-5,0]"
   ]
  },
  {
   "cell_type": "markdown",
   "id": "a789d04f",
   "metadata": {},
   "source": [
    "A. Check if a string starts with a particular letter (e.g., 'a')"
   ]
  },
  {
   "cell_type": "code",
   "execution_count": 10,
   "id": "fa5d1a45",
   "metadata": {},
   "outputs": [
    {
     "name": "stdout",
     "output_type": "stream",
     "text": [
      "True\n"
     ]
    }
   ],
   "source": [
    "starts_with_a = lambda s: s.startswith('a')\n",
    "print(starts_with_a(\"apple\"))"
   ]
  },
  {
   "cell_type": "markdown",
   "id": "7f0e1047",
   "metadata": {},
   "source": [
    "B. Check if the string is numeric"
   ]
  },
  {
   "cell_type": "code",
   "execution_count": 11,
   "id": "085c7587",
   "metadata": {},
   "outputs": [
    {
     "name": "stdout",
     "output_type": "stream",
     "text": [
      "True\n",
      "False\n"
     ]
    }
   ],
   "source": [
    "is_numeric = lambda s: s.isnumeric()\n",
    "print(is_numeric(\"12345\"))     \n",
    "print(is_numeric(\"abc123\"))"
   ]
  },
  {
   "cell_type": "markdown",
   "id": "c3af2ee7",
   "metadata": {},
   "source": [
    "C. Sort a list of tuples having fruit names and their quantity"
   ]
  },
  {
   "cell_type": "code",
   "execution_count": 12,
   "id": "02f6155b",
   "metadata": {},
   "outputs": [
    {
     "name": "stdout",
     "output_type": "stream",
     "text": [
      "[('orange', 80), ('mango', 99), ('grapes', 1000)]\n"
     ]
    }
   ],
   "source": [
    "fruits = [(\"mango\", 99), (\"orange\", 80), (\"grapes\", 1000)]\n",
    "sorted_fruits = sorted(fruits, key=lambda x: x[1])\n",
    "print(sorted_fruits)"
   ]
  },
  {
   "cell_type": "markdown",
   "id": "6ca657da",
   "metadata": {},
   "source": [
    "D. Find the squares of numbers from 1 to 10"
   ]
  },
  {
   "cell_type": "code",
   "execution_count": 13,
   "id": "ea15fa8c",
   "metadata": {},
   "outputs": [
    {
     "name": "stdout",
     "output_type": "stream",
     "text": [
      "[1, 4, 9, 16, 25, 36, 49, 64, 81, 100]\n"
     ]
    }
   ],
   "source": [
    "squares = list(map(lambda x: x**2, range(1, 11)))\n",
    "print(squares)"
   ]
  },
  {
   "cell_type": "markdown",
   "id": "c413f76f",
   "metadata": {},
   "source": [
    "E. Find the cube root of numbers from 1 to 10"
   ]
  },
  {
   "cell_type": "code",
   "execution_count": 14,
   "id": "5d6cdf53",
   "metadata": {},
   "outputs": [
    {
     "name": "stdout",
     "output_type": "stream",
     "text": [
      "[1.0, 1.26, 1.44, 1.59, 1.71, 1.82, 1.91, 2.0, 2.08, 2.15]\n"
     ]
    }
   ],
   "source": [
    "cube_roots = [round(x ** (1/3), 2) for x in range(1, 11)]\n",
    "print(cube_roots)"
   ]
  },
  {
   "cell_type": "markdown",
   "id": "310ddcb7",
   "metadata": {},
   "source": [
    "F. Check if a given number is even"
   ]
  },
  {
   "cell_type": "code",
   "execution_count": 15,
   "id": "307bc1f9",
   "metadata": {},
   "outputs": [
    {
     "name": "stdout",
     "output_type": "stream",
     "text": [
      "True\n",
      "False\n"
     ]
    }
   ],
   "source": [
    "is_even = lambda x: x % 2 == 0\n",
    "print(is_even(4))  \n",
    "print(is_even(5))"
   ]
  },
  {
   "cell_type": "markdown",
   "id": "5a6395a8",
   "metadata": {},
   "source": [
    "G.  Filter odd numbers from a given list"
   ]
  },
  {
   "cell_type": "code",
   "execution_count": 16,
   "id": "19b9e7be",
   "metadata": {},
   "outputs": [
    {
     "name": "stdout",
     "output_type": "stream",
     "text": [
      "[1, 3, 5, 7, 9]\n"
     ]
    }
   ],
   "source": [
    "nums = [1,2,3,4,5,6,7,8,9,10]\n",
    "odd_nums = list(filter(lambda x: x % 2 != 0, nums))\n",
    "print(odd_nums)"
   ]
  },
  {
   "cell_type": "markdown",
   "id": "57428a34",
   "metadata": {},
   "source": [
    "H. Sort a list of integers into positive and negative integers lists"
   ]
  },
  {
   "cell_type": "code",
   "execution_count": 17,
   "id": "ea454e22",
   "metadata": {},
   "outputs": [
    {
     "name": "stdout",
     "output_type": "stream",
     "text": [
      "Positive numbers: [1, 2, 3, 4, 5, 6]\n",
      "Negative numbers: [-1, -2, -3, -4, -5]\n"
     ]
    }
   ],
   "source": [
    "nums2 = [1,2,3,4,5,6,-1,-2,-3,-4,-5,0]\n",
    "\n",
    "positives = [x for x in nums2 if x > 0]\n",
    "negatives = [x for x in nums2 if x < 0]\n",
    "\n",
    "print(\"Positive numbers:\", positives)\n",
    "print(\"Negative numbers:\", negatives)"
   ]
  },
  {
   "cell_type": "code",
   "execution_count": null,
   "id": "cc7e3e32",
   "metadata": {},
   "outputs": [],
   "source": []
  }
 ],
 "metadata": {
  "kernelspec": {
   "display_name": "Python 3 (ipykernel)",
   "language": "python",
   "name": "python3"
  },
  "language_info": {
   "codemirror_mode": {
    "name": "ipython",
    "version": 3
   },
   "file_extension": ".py",
   "mimetype": "text/x-python",
   "name": "python",
   "nbconvert_exporter": "python",
   "pygments_lexer": "ipython3",
   "version": "3.9.13"
  }
 },
 "nbformat": 4,
 "nbformat_minor": 5
}
